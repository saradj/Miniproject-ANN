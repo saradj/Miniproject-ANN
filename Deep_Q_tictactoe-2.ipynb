{
  "cells": [
    {
      "cell_type": "code",
      "execution_count": 3,
      "metadata": {
        "id": "9n7AqXA-wi5s"
      },
      "outputs": [
        {
          "ename": "ModuleNotFoundError",
          "evalue": "No module named 'libtensorflow'",
          "output_type": "error",
          "traceback": [
            "\u001b[0;31m---------------------------------------------------------------------------\u001b[0m",
            "\u001b[0;31mModuleNotFoundError\u001b[0m                       Traceback (most recent call last)",
            "\u001b[1;32m/Users/Sara/Downloads/Deep_Q_tictactoe-2.ipynb Cell 1'\u001b[0m in \u001b[0;36m<cell line: 4>\u001b[0;34m()\u001b[0m\n\u001b[1;32m      <a href='vscode-notebook-cell:/Users/Sara/Downloads/Deep_Q_tictactoe-2.ipynb#ch0000000?line=1'>2</a>\u001b[0m \u001b[39mimport\u001b[39;00m \u001b[39mcollections\u001b[39;00m\n\u001b[1;32m      <a href='vscode-notebook-cell:/Users/Sara/Downloads/Deep_Q_tictactoe-2.ipynb#ch0000000?line=2'>3</a>\u001b[0m \u001b[39mimport\u001b[39;00m \u001b[39mnumpy\u001b[39;00m \u001b[39mas\u001b[39;00m \u001b[39mnp\u001b[39;00m\n\u001b[0;32m----> <a href='vscode-notebook-cell:/Users/Sara/Downloads/Deep_Q_tictactoe-2.ipynb#ch0000000?line=3'>4</a>\u001b[0m \u001b[39mimport\u001b[39;00m \u001b[39mlibtensorflow\u001b[39;00m \u001b[39mas\u001b[39;00m \u001b[39mtf\u001b[39;00m\n\u001b[1;32m      <a href='vscode-notebook-cell:/Users/Sara/Downloads/Deep_Q_tictactoe-2.ipynb#ch0000000?line=4'>5</a>\u001b[0m \u001b[39mimport\u001b[39;00m \u001b[39mmatplotlib\u001b[39;00m\u001b[39m.\u001b[39;00m\u001b[39mpyplot\u001b[39;00m \u001b[39mas\u001b[39;00m \u001b[39mplt\u001b[39;00m\n\u001b[1;32m      <a href='vscode-notebook-cell:/Users/Sara/Downloads/Deep_Q_tictactoe-2.ipynb#ch0000000?line=5'>6</a>\u001b[0m \u001b[39mimport\u001b[39;00m \u001b[39mmatplotlib\u001b[39;00m\u001b[39m.\u001b[39;00m\u001b[39mticker\u001b[39;00m\n",
            "\u001b[0;31mModuleNotFoundError\u001b[0m: No module named 'libtensorflow'"
          ]
        }
      ],
      "source": [
        "import random\n",
        "import collections\n",
        "import numpy as np\n",
        "import tensorflow as tf\n",
        "import matplotlib.pyplot as plt\n",
        "import matplotlib.ticker\n",
        "from tic_env import TictactoeEnv, OptimalPlayer\n",
        "from tensorflow.keras import layers\n",
        "import tensorflow.keras as keras\n",
        "import keras\n",
        "from keras.datasets import mnist\n",
        "from keras.models import Sequential\n",
        "from keras.layers import Dense, Dropout, Flatten\n",
        "from keras.layers import Conv2D, MaxPooling2D, Conv2DTranspose\n",
        "from keras import backend as K\n",
        "\n",
        "%matplotlib inline"
      ]
    },
    {
      "cell_type": "code",
      "execution_count": 3,
      "metadata": {
        "id": "JK5tTB1c3jqV"
      },
      "outputs": [],
      "source": [
        "class Agent(OptimalPlayer):\n",
        "\n",
        "  def __init__(self):\n",
        "    self.model = self.create_model()\n",
        "    self.target_model =  self.create_model()\n",
        "\n",
        "  def create_model(self):\n",
        "    model = Sequential()\n",
        "    # model.add(Flatten(input_shape=[3,3,2]))\n",
        "    model.add(Conv2D(8, kernel_size=(1, 1),\n",
        "                 activation='relu',\n",
        "                 input_shape=[3,3,2],\n",
        "                 strides=(1,1), padding='same'))\n",
        "    \n",
        "    model.add(Conv2D(8, (3, 3), activation='relu',padding='same'))\n",
        "    model.add(Flatten())\n",
        "    \"\"\"\n",
        "    model.add(Dense(50, activation='relu'))\n",
        "    model.add(Dropout(0.1))\n",
        "    model.add(Dense(9, activation='sigmoid'))\n",
        "    model.compile(loss='binary_crossentropy', optimizer='adam')\n",
        "    \"\"\"\n",
        "    model.add(Dense(128, activation='relu'))\n",
        "    model.add(Dense(128, activation='relu'))\n",
        "    model.add(Dense(9, activation='linear'))\n",
        "    model.compile(loss='huber_loss', optimizer=tf.keras.optimizers.Adam(\n",
        "    learning_rate=0.0005,\n",
        "\n",
        ")\n",
        ")\n",
        "    \n",
        "    return model\n",
        "\n",
        "  def show_heat_map(self, pred):\n",
        "    data = np.reshape(pred, [3,3])\n",
        "    fig, ax = plt.subplots()\n",
        "    im = ax.imshow(data, cmap=plt.get_cmap('hot'), interpolation='nearest',\n",
        "              vmin=0, vmax=1)\n",
        "    fig.colorbar(im)\n",
        "    plt.show()\n",
        "\n",
        "  def act(self, env, agent_player, show=False, valid_move = False):\n",
        "    model_input = np.zeros([1,3,3,2])\n",
        "    model_input[0,:,:,0] = env==agent_player\n",
        "    model_input[0,:,:,1] = env==(-1)*agent_player\n",
        "    #print(model_input)\n",
        "    #print(model_input.shape)\n",
        "    pred = np.squeeze(self.target_model(model_input).numpy())\n",
        "    #print(np.array(pred).shape)\n",
        "    if valid_move:\n",
        "      # zero out anywhere where there is already a player\n",
        "      pred[env.flatten() != 0] = 0\n",
        "\n",
        "    if show:\n",
        "      self.show_heat_map(pred)\n",
        "    #print(pred.argmax())\n",
        "\n",
        "    return int(pred.argmax()), pred"
      ]
    },
    {
      "cell_type": "markdown",
      "metadata": {
        "id": "UCfglNapCWdl"
      },
      "source": []
    },
    {
      "cell_type": "code",
      "execution_count": 4,
      "metadata": {
        "id": "gY1WWY7RydO5"
      },
      "outputs": [],
      "source": [
        "from copy import deepcopy\n",
        "from sklearn.preprocessing import normalize\n",
        "def render_all(things, vmin=0, vmax=2, cmap='cool', show_max=True):\n",
        "  display_all = np.zeros([3,3*(len(things))])\n",
        "  for i, thing in enumerate(things):\n",
        "    if show_max:\n",
        "      print('make move: ', thing.argmax())\n",
        "    step = 3*i\n",
        "    display_all[:,step:step+3] = np.reshape(thing, [3,3])\n",
        "  plt.imshow(display_all, vmin=vmin, vmax=vmax, cmap=cmap)\n",
        "  plt.show()\n",
        "\n",
        "def apply_rewards(reward, predictions, decay = 0.99):\n",
        "  # copy and reverse (more reward applied to latest moves)\n",
        "  output = deepcopy(predictions)[::-1]\n",
        "  #print(output)\n",
        "  #print(np.array(output).shape)\n",
        "  applied_reward = reward\n",
        "  for pred, move in output:\n",
        "    move_index =  np.unravel_index(move, pred.shape)\n",
        "    pred[ move_index ] = np.clip(pred[ move_index ] + applied_reward, 0, 1)\n",
        "    applied_reward *= decay\n",
        "  # un-reverse \n",
        "  return [o[0] for o in output[::-1]]\n",
        "\n",
        "def get_states(memory):\n",
        "  return [m[0] for m in memory]\n",
        "\n",
        "def get_new_qs(memory):\n",
        "  return [m[1] for m in memory]\n",
        "\n",
        "def render_memory(memory):\n",
        "  states = get_states(memory)\n",
        "  updated = get_new_qs(memory)\n",
        "  current = [m[2][0] for m in memory]\n",
        "  print('states')\n",
        "  render_all(states)\n",
        "  print('current qs')\n",
        "  render_all(current)\n",
        "  print('upated qs')\n",
        "  render_all(updated)"
      ]
    },
    {
      "cell_type": "code",
      "execution_count": 6,
      "metadata": {
        "colab": {
          "base_uri": "https://localhost:8080/"
        },
        "id": "nukHe4r_yZ1m",
        "outputId": "1de1967c-06bc-4d5d-d08c-74971db4f495"
      },
      "outputs": [
        {
          "name": "stdout",
          "output_type": "stream",
          "text": [
            "0\n",
            "500\n",
            "1000\n",
            "1500\n",
            "2000\n",
            "2500\n",
            "3000\n",
            "3500\n",
            "4000\n",
            "4500\n",
            "5000\n",
            "5500\n",
            "6000\n",
            "6500\n",
            "7000\n",
            "7500\n",
            "8000\n",
            "8500\n",
            "9000\n",
            "9500\n",
            "10000\n",
            "10500\n",
            "11000\n",
            "11500\n",
            "12000\n",
            "12500\n",
            "13000\n",
            "13500\n",
            "14000\n",
            "14500\n",
            "15000\n",
            "15500\n",
            "16000\n",
            "16500\n",
            "17000\n",
            "17500\n",
            "18000\n",
            "18500\n",
            "19000\n",
            "19500\n"
          ]
        }
      ],
      "source": [
        "random.seed(4)\n",
        "\n",
        "env = TictactoeEnv()\n",
        "Turns = np.array(['X','O'])\n",
        "agent = Agent()\n",
        "epsilon =0.1\n",
        "memory =[]\n",
        "all_rewards=list()\n",
        "all_loss = list()\n",
        "for i in range( 20000):\n",
        "\n",
        "      #update network\n",
        "    bad_move=False\n",
        "    env.reset()\n",
        "    history = []\n",
        "    predictions = []\n",
        "    grid, _, __ = env.observe()\n",
        "    Turns = [Turns[i%2], Turns[(i%2+1)%2]]\n",
        "    #agent.new_game()\n",
        "    agent.player = Turns[0]\n",
        "    player_opt_2 = OptimalPlayer(epsilon=0.5, player=Turns[1])\n",
        "    agent_player = env.player2value[agent.player]\n",
        "    for j in range(9):\n",
        "        if env.current_player == agent.player:\n",
        "            move, pred = agent.act(grid, agent_player)            \n",
        "            if random.random() < epsilon:\n",
        "              move= agent.randomMove(grid)\n",
        "              move = move[0]*3 + move[1]\n",
        "            predictions.append([pred, move])\n",
        "        else:\n",
        "            move = player_opt_2.act(grid)\n",
        "        try:\n",
        "          grid, end, winner = env.step(move, print_grid=False)\n",
        "          history.append([grid.copy(), move])\n",
        "        except ValueError:\n",
        "          if env.current_player == agent.player:\n",
        "            #print(\"agent played used field\")\n",
        "            end = True\n",
        "            winner = player_opt_2.player\n",
        "            bad_move = True\n",
        "        if end:\n",
        "            \"\"\"\n",
        "            print('-------------------------------------------')\n",
        "            print('Game end, winner is player ' + str(winner))\n",
        "            print('Agent player 1 = ' +  Turns[0])\n",
        "            print('Optimal player 2 = ' +  Turns[1])\n",
        "            \"\"\"\n",
        "            reward_value =env.reward(agent.player)\n",
        "            all_rewards.append(reward_value)\n",
        "            #train_loss = agent.model.history.history\n",
        "            #print(train_loss)\n",
        "            updated_q = apply_rewards(reward_value, predictions, decay=0.99 if not bad_move else 0)\n",
        "            states = [h[0] for h in history]\n",
        "\n",
        "            for j in range(len(updated_q)):\n",
        "              memory.append( [states[j], updated_q[j], predictions[j]])\n",
        "            #env.render()\n",
        "            env.reset()\n",
        "            break;\n",
        "            \n",
        "    memory = memory[-10000:] if len(memory)>10000 else memory\n",
        "    #print(np.shape(memory))\n",
        "    #print(np.shape(memory[-20:]))\n",
        "    \n",
        "    X, y, hist = update_network(memory, agent_player)\n",
        "    all_loss.append(np.mean(hist[0].history['loss']))\n",
        "    if i%500==0:\n",
        "      print(i)\n",
        "      agent.target_model.set_weights(agent.model.get_weights())\n",
        "    #print(agent.model.history.history['loss'])\n"
      ]
    },
    {
      "cell_type": "code",
      "execution_count": 5,
      "metadata": {
        "id": "N2IiYcRSniOK"
      },
      "outputs": [],
      "source": [
        "def update_network(memory, agent_player):\n",
        "  _X = np.array(get_states(memory))\n",
        "  X = np.zeros([*_X.shape,2])\n",
        "  # swap values\n",
        "  X[:,:,:,0] = (_X == agent_player)\n",
        "  X[:,:,:,1] = (_X == (-1)*agent_player)\n",
        "  y = np.squeeze(np.array(get_new_qs(memory)))\n",
        "  hist = agent.model.fit(X, y, epochs=1, verbose=0, batch_size=64), #sample_weight=weights)\n",
        "  return X, y, hist"
      ]
    },
    {
      "cell_type": "code",
      "execution_count": 9,
      "metadata": {
        "id": "nCG5cQyzslus"
      },
      "outputs": [],
      "source": [
        "agent.target_model.set_weights(agent.model.get_weights())\n",
        "#save the model ?\n",
        "agent.target_model.save('winer.keras')\n",
        "agent.target_model.save_weights('winer_weights.keras')"
      ]
    },
    {
      "cell_type": "code",
      "execution_count": null,
      "metadata": {
        "colab": {
          "base_uri": "https://localhost:8080/"
        },
        "id": "NN7JMihJFkdQ",
        "outputId": "bc8ee8e6-feec-47fa-db77-0d35e0d203ec"
      },
      "outputs": [
        {
          "name": "stdout",
          "output_type": "stream",
          "text": [
            "3 positive change, 459 negative change\n"
          ]
        },
        {
          "data": {
            "text/plain": [
              "(0.9935064935064936, 0.006493506493506494)"
            ]
          },
          "execution_count": 51,
          "metadata": {},
          "output_type": "execute_result"
        }
      ],
      "source": [
        "moves = [p[2][0] for p in memory]\n",
        "moves_np = np.squeeze(np.array(moves).sum(axis=1))\n",
        "moves_np.shape\n",
        "\n",
        "\n",
        "_X = np.array(get_states(memory))\n",
        "X = np.zeros([*_X.shape,2])\n",
        "X[:,:,:,0] = (_X == 1)\n",
        "X[:,:,:,1] = (_X == -1)\n",
        "y = np.squeeze(np.array(get_new_qs(memory)))\n",
        "\n",
        "y_sum = y.sum(axis=1)\n",
        "\n",
        "pos = (y_sum > moves_np)\n",
        "\n",
        "positive_rewards = pos.sum()\n",
        "negative_rewards = (~pos).sum()\n",
        "print('{} positive change, {} negative change'.format(positive_rewards ,\n",
        "                                                      negative_rewards))\n",
        "\n",
        "\n",
        "pos_weight =  negative_rewards/len(y)\n",
        "neg_weight =  positive_rewards/len(y)\n",
        "\n",
        "weights = np.zeros(len(y))\n",
        "weights[pos] =  0.05 #pos_weight\n",
        "weights[~pos] = 0.9 # neg_weight\n",
        "pos_weight,neg_weight"
      ]
    },
    {
      "cell_type": "code",
      "execution_count": null,
      "metadata": {
        "id": "a1n1ufSQhcKh"
      },
      "outputs": [],
      "source": [
        "hist = agent.model.fit(X, y, epochs=100, verbose=0, batch_size=32), #sample_weight=weights)\n"
      ]
    },
    {
      "cell_type": "code",
      "execution_count": 7,
      "metadata": {
        "colab": {
          "base_uri": "https://localhost:8080/",
          "height": 299
        },
        "id": "L5g2zdz9kEqf",
        "outputId": "ac4d3c23-0bb6-4b94-d97e-ef2131f36ea4"
      },
      "outputs": [
        {
          "name": "stdout",
          "output_type": "stream",
          "text": [
            "<keras.callbacks.History object at 0x7f8834751250>\n"
          ]
        },
        {
          "data": {
            "text/plain": [
              "[<matplotlib.lines.Line2D at 0x7f883416fcd0>]"
            ]
          },
          "execution_count": 7,
          "metadata": {},
          "output_type": "execute_result"
        },
        {
          "data": {
            "image/png": "[encoded data removed]",
            "text/plain": [
              "<Figure size 432x288 with 1 Axes>"
            ]
          },
          "metadata": {
            "needs_background": "light"
          },
          "output_type": "display_data"
        }
      ],
      "source": [
        "print(hist[0])\n",
        "mean_loss = list()\n",
        "mean_reward = list()\n",
        "for i in range(0,len(all_loss), 250):\n",
        "  #print(i)\n",
        "  mean_loss.append(np.mean(all_loss[i:i+250]))\n",
        "  mean_reward.append(np.mean(all_rewards[i:i+250]))\n",
        "\n",
        "plt.plot(mean_reward[:])\n"
      ]
    },
    {
      "cell_type": "code",
      "execution_count": 8,
      "metadata": {
        "colab": {
          "base_uri": "https://localhost:8080/",
          "height": 283
        },
        "id": "m_lvbj-_kN3U",
        "outputId": "9ab9884f-aaaa-4c28-8e66-11ea282f97ee"
      },
      "outputs": [
        {
          "name": "stdout",
          "output_type": "stream",
          "text": [
            "20000\n"
          ]
        },
        {
          "data": {
            "image/png": "[encoded data removed]",
            "text/plain": [
              "<Figure size 432x288 with 1 Axes>"
            ]
          },
          "metadata": {
            "needs_background": "light"
          },
          "output_type": "display_data"
        }
      ],
      "source": [
        "plt.plot(all_loss[:])\n",
        "print(len(all_loss))"
      ]
    },
    {
      "cell_type": "code",
      "execution_count": null,
      "metadata": {
        "id": "Xzn5jPOJcRh1"
      },
      "outputs": [],
      "source": [
        "_X = np.array(get_states(memory))\n",
        "X = np.zeros([*_X.shape,2])\n",
        "X[:,:,:,0] = (_X == 1)\n",
        "X[:,:,:,1] = (_X == -1)\n",
        "print(X)"
      ]
    },
    {
      "cell_type": "code",
      "execution_count": 9,
      "metadata": {
        "colab": {
          "base_uri": "https://localhost:8080/",
          "height": 285
        },
        "id": "trVbIqM2d88X",
        "outputId": "096d8d91-3e2f-4397-be6f-bf4cc058831c"
      },
      "outputs": [
        {
          "data": {
            "text/plain": [
              "[<matplotlib.lines.Line2D at 0x7f883480edd0>]"
            ]
          },
          "execution_count": 9,
          "metadata": {},
          "output_type": "execute_result"
        },
        {
          "data": {
            "image/png": "[encoded data removed]",
            "text/plain": [
              "<Figure size 432x288 with 1 Axes>"
            ]
          },
          "metadata": {
            "needs_background": "light"
          },
          "output_type": "display_data"
        }
      ],
      "source": [
        "plt.plot(mean_loss[:])"
      ]
    },
    {
      "cell_type": "code",
      "execution_count": null,
      "metadata": {
        "id": "lEv8g7E9aE_v"
      },
      "outputs": [],
      "source": []
    }
  ],
  "metadata": {
    "colab": {
      "collapsed_sections": [],
      "name": "Deep-Q tictactoe.ipynb",
      "provenance": []
    },
    "kernelspec": {
      "display_name": "Python 3",
      "name": "python3"
    },
    "language_info": {
      "codemirror_mode": {
        "name": "ipython",
        "version": 3
      },
      "file_extension": ".py",
      "mimetype": "text/x-python",
      "name": "python",
      "nbconvert_exporter": "python",
      "pygments_lexer": "ipython3",
      "version": "3.9.12"
    }
  },
  "nbformat": 4,
  "nbformat_minor": 0
}
